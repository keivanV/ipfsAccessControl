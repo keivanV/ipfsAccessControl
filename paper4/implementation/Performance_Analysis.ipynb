{
 "cells": [
  {
   "cell_type": "markdown",
   "metadata": {},
   "source": [
    "# 📊 Performance Metrics Visualization\n",
    "This notebook loads `performance_log.csv` and visualizes the encryption, decryption, and upload times."
   ]
  },
  {
   "cell_type": "code",
   "execution_count": null,
   "metadata": {},
   "outputs": [],
   "source": [
    "import pandas as pd\n",
    "import matplotlib.pyplot as plt\n",
    "\n",
    "# Load performance log\n",
    "df = pd.read_csv('performance_log.csv')\n",
    "df"
   ]
  },
  {
   "cell_type": "code",
   "execution_count": null,
   "metadata": {},
   "outputs": [],
   "source": [
    "# Plot execution times\n",
    "timing_keys = ['keygen_time', 'user_keygen_time', 'sym_enc_time', 'abe_enc_time', 'ipfs_upload_time', 'abe_dec_time', 'total_time']\n",
    "\n",
    "plt.figure(figsize=(12, 6))\n",
    "plt.bar(timing_keys, df.loc[0, timing_keys], color='skyblue')\n",
    "plt.ylabel('Time (seconds)')\n",
    "plt.title('Execution Time Breakdown')\n",
    "plt.xticks(rotation=45)\n",
    "plt.grid(axis='y')\n",
    "plt.tight_layout()\n",
    "plt.show()"
   ]
  }
 ],
 "metadata": {
  "kernelspec": {
   "display_name": "Python 3",
   "language": "python",
   "name": "python3"
  },
  "language_info": {
   "name": "python",
   "version": ""
  }
 },
 "nbformat": 4,
 "nbformat_minor": 5
}
